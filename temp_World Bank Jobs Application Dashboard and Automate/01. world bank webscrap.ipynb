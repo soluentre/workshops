{
 "cells": [
  {
   "cell_type": "code",
   "execution_count": 97,
   "id": "58b26273",
   "metadata": {},
   "outputs": [],
   "source": [
    "# pip install openai"
   ]
  },
  {
   "cell_type": "code",
   "execution_count": 98,
   "id": "f61ca591",
   "metadata": {},
   "outputs": [],
   "source": [
    "# dfs = pd.read_html(\"https://worldbankgroup.csod.com/ats/careersite/search.aspx?site=1&c=worldbankgroup&sid=%5e%5e%5eFLGscZMYY2RrwVaMR%2ftHYw%3d%3d\")\n",
    "# dfs[3]"
   ]
  },
  {
   "cell_type": "code",
   "execution_count": 105,
   "id": "683903c8",
   "metadata": {},
   "outputs": [],
   "source": [
    "import requests\n",
    "import openai\n",
    "import time\n",
    "from selenium import webdriver\n",
    "from selenium.webdriver.common.by import By\n",
    "# from selenium.webdriver.support.ui import WebDriverWait\n",
    "# from selenium.webdriver.support import expected_conditions as EC\n",
    "import pandas as pd\n",
    "import os\n",
    "from bs4 import BeautifulSoup\n",
    "from openpyxl import load_workbook\n",
    "from datetime import datetime\n",
    "\n",
    "os.chdir(\"D:/workshops/temp_World Bank Jobs Application Dashboard and Automate\")"
   ]
  },
  {
   "cell_type": "code",
   "execution_count": 106,
   "id": "dc5ac14e",
   "metadata": {},
   "outputs": [
    {
     "name": "stdout",
     "output_type": "stream",
     "text": [
      "Page Number 1 Displayed\n",
      "Page Number 2 Displayed\n",
      "Page Number 3 Displayed\n",
      "Page Number 4 Displayed\n",
      "Page Number 5 Displayed\n",
      "Page Number 6 Displayed\n",
      "Page Number 7 Displayed\n",
      "Page Number 8 Displayed\n",
      "Page Number 9 Displayed\n",
      "Page Number 10 Displayed\n",
      "Page Number 11 Displayed\n",
      "No More Pages!\n"
     ]
    }
   ],
   "source": [
    "# Open and retrieve the initial page's table\n",
    "driver = webdriver.Chrome()\n",
    "driver.get('https://worldbankgroup.csod.com/ats/careersite/search.aspx?site=1&c=worldbankgroup&sid=%5e%5e%5eFLGscZMYY2RrwVaMR%2ftHYw%3d%3d')\n",
    "time.sleep(3)\n",
    "print(\"Page Number 1 Displayed\")\n",
    "page_s = driver.page_source\n",
    "soup = BeautifulSoup(page_s, 'html.parser')\n",
    "\n",
    "list_all = []\n",
    "\n",
    "# Home Page\n",
    "for row in soup.find('table', attrs={'class':'results-table'}).find('tbody').find_all('tr'):\n",
    "    list_in = []\n",
    "    list_in.append(row.find('a').text)\n",
    "    list_in.append('https://worldbankgroup.csod.com/ats/careersite/' + row.find('a')['href'])\n",
    "    i = 1 \n",
    "    list_in.append(row.find_all('span')[i].text)\n",
    "    i += 1\n",
    "    list_in.append(row.find_all('span')[i].text)\n",
    "    i += 1\n",
    "    if 'ctl05_displayField' in row.find_all('span')[i]['id']:\n",
    "        list_in.append(row.find_all('span')[i].text)\n",
    "        i += 1\n",
    "    else:\n",
    "        list_in.append(' ')\n",
    "    list_in.append(row.find_all('span')[i].text)\n",
    "    i += 1\n",
    "    list_in.append(row.find_all('span')[i].text)\n",
    "    i += 1\n",
    "    list_in.append(row.find_all('span')[i].text)\n",
    "    list_all.append(list_in)\n",
    "\n",
    "# Other Pages\n",
    "page_count = 2\n",
    "try:\n",
    "    for i in range(0,20):\n",
    "        driver.find_element(By.CSS_SELECTOR, 'a[data-tag=\"nextPageLink\"]').click()\n",
    "        time.sleep(3)\n",
    "        page_s = driver.page_source\n",
    "        soup = BeautifulSoup(page_s, 'html.parser')\n",
    "\n",
    "        for row in soup.find('table', attrs={'class':'results-table'}).find('tbody').find_all('tr'):\n",
    "            list_in = []\n",
    "            list_in.append(row.find('a').text)\n",
    "            list_in.append('https://worldbankgroup.csod.com/ats/careersite/' + row.find('a')['href'])\n",
    "            i = 1 \n",
    "            list_in.append(row.find_all('span')[i].text)\n",
    "            i += 1\n",
    "            list_in.append(row.find_all('span')[i].text)\n",
    "            i += 1\n",
    "            if 'ctl05_displayField' in row.find_all('span')[i]['id']:\n",
    "                list_in.append(row.find_all('span')[i].text)\n",
    "                i += 1\n",
    "            else:\n",
    "                list_in.append(' ')\n",
    "            list_in.append(row.find_all('span')[i].text)\n",
    "            i += 1\n",
    "            list_in.append(row.find_all('span')[i].text)\n",
    "            i += 1\n",
    "            list_in.append(row.find_all('span')[i].text)\n",
    "            list_all.append(list_in)\n",
    "        print(\"Page Number \" + str(page_count) + \" Displayed\")\n",
    "        page_count += 1\n",
    "except:\n",
    "    print(\"No More Pages!\")"
   ]
  },
  {
   "cell_type": "code",
   "execution_count": 111,
   "id": "d5de90e0",
   "metadata": {
    "scrolled": false
   },
   "outputs": [],
   "source": [
    "df = pd.DataFrame(list_all)\n",
    "df.columns = ['title','detail','instit','code','grade','location','topic','ddl']\n",
    "df['ddl_date'] = pd.to_datetime(df['ddl'],format='%m/%d/%Y')\n",
    "df['status'] = ''\n",
    "status_update = pd.read_excel('wb dashboard.xlsm')[['status_update','code']]\n",
    "merged_df = pd.merge(df,status_update, how='left', on='code')\n",
    "\n",
    "merged_df = merged_df[(merged_df['location']=='Washington, DC,United States') & (merged_df['ddl_date']>datetime.today())]\n",
    "merged_df = merged_df[~merged_df['title'].str.contains('Internship')]\n",
    "merged_df['status'] = merged_df['status_update'] \n",
    "merged_df = merged_df.sort_values(by=['ddl_date','status']).drop(['ddl_date','status_update'], axis=1)\n",
    "merged_df.to_csv('data.csv', index=False)"
   ]
  },
  {
   "cell_type": "code",
   "execution_count": 102,
   "id": "542caeee",
   "metadata": {
    "scrolled": true
   },
   "outputs": [],
   "source": [
    "# for row in rows:\n",
    "#     job_title = row.find('td', attrs={'class': 'atsJobTitle'}).text.strip()\n",
    "#     job_link = row.find('a')['href']\n",
    "#     job_location = row.find('td', attrs={'class': 'atsJobLocation'}).text.strip()\n",
    "#     job_category = row.find('td', attrs={'class': 'atsJobCategory'}).text.strip()\n",
    "#     print('Job Title:', job_title)\n",
    "#     print('Job Link:', job_link)\n",
    "#     print('Job Location:', job_location)\n",
    "#     print('Job Category:', job_category)"
   ]
  },
  {
   "cell_type": "code",
   "execution_count": 103,
   "id": "210c11f4",
   "metadata": {},
   "outputs": [],
   "source": [
    "# prompt = \"please provide a cover letter for the Associate Investment Officer position at the World Bankaccording to the following job description: Selection Criteria MBA or equivalent Post Graduate degree in business, finance or economics;Solid and relevant experience of at least 6 years gained either in project finance, corporate finance, M&A and privatizations, or  private equity funds in infrastructure;Knowledge of overall infrastructure sector trends Relevant experience in infrastructure transactions and PPPs, preferably in Africa, with a proven track record of executing transactions (sell or buy side);Business development and client relationship skills, track record and ability to focus on clients’ needs effectively;Strong track record of contractual and/or financial closings of infrastructure transactions;Experience in dealing with government clients, investors and multiple stakeholders of infrastructure projects;Ability to manage teams in multiple transactions, delivering high quality work within deadlines, and to meet team objectives;Strong financial modeling skills;Strong analytical and conceptual skills and ability to communicate ideas clearly and confidently.Good presentation skills both written and oral;Willingness and ability to travel on short notice and frequently, as required; andExcellent oral and written communication skills in English, Arabic and French is essential. \"\n",
    "# response = openai.Completion.create(\n",
    "#   engine=\"text-davinci-002\",\n",
    "#   prompt=prompt,\n",
    "#   max_tokens=1000\n",
    "# )\n",
    "\n",
    "# print(response.choices[0].text)"
   ]
  },
  {
   "cell_type": "code",
   "execution_count": null,
   "id": "642f778a",
   "metadata": {},
   "outputs": [],
   "source": []
  },
  {
   "cell_type": "code",
   "execution_count": null,
   "id": "1e552794",
   "metadata": {},
   "outputs": [],
   "source": []
  }
 ],
 "metadata": {
  "kernelspec": {
   "display_name": "Python 3 (ipykernel)",
   "language": "python",
   "name": "python3"
  },
  "language_info": {
   "codemirror_mode": {
    "name": "ipython",
    "version": 3
   },
   "file_extension": ".py",
   "mimetype": "text/x-python",
   "name": "python",
   "nbconvert_exporter": "python",
   "pygments_lexer": "ipython3",
   "version": "3.9.13"
  }
 },
 "nbformat": 4,
 "nbformat_minor": 5
}
