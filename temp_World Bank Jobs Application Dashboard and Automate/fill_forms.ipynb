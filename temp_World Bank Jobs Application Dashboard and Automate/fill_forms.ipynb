{
 "cells": [
  {
   "cell_type": "code",
   "execution_count": 1,
   "id": "36bdc8d3",
   "metadata": {},
   "outputs": [
    {
     "name": "stdout",
     "output_type": "stream",
     "text": [
      "Requirement already satisfied: selenium in c:\\users\\lixue\\anaconda3\\lib\\site-packages (4.8.2)\n",
      "Requirement already satisfied: certifi>=2021.10.8 in c:\\users\\lixue\\anaconda3\\lib\\site-packages (from selenium) (2022.9.14)\n",
      "Requirement already satisfied: trio~=0.17 in c:\\users\\lixue\\anaconda3\\lib\\site-packages (from selenium) (0.22.0)\n",
      "Requirement already satisfied: urllib3[socks]~=1.26 in c:\\users\\lixue\\anaconda3\\lib\\site-packages (from selenium) (1.26.11)\n",
      "Requirement already satisfied: trio-websocket~=0.9 in c:\\users\\lixue\\anaconda3\\lib\\site-packages (from selenium) (0.9.2)\n",
      "Requirement already satisfied: sortedcontainers in c:\\users\\lixue\\anaconda3\\lib\\site-packages (from trio~=0.17->selenium) (2.4.0)\n",
      "Requirement already satisfied: cffi>=1.14 in c:\\users\\lixue\\anaconda3\\lib\\site-packages (from trio~=0.17->selenium) (1.15.1)\n",
      "Requirement already satisfied: attrs>=19.2.0 in c:\\users\\lixue\\anaconda3\\lib\\site-packages (from trio~=0.17->selenium) (21.4.0)\n",
      "Requirement already satisfied: sniffio in c:\\users\\lixue\\anaconda3\\lib\\site-packages (from trio~=0.17->selenium) (1.2.0)\n",
      "Requirement already satisfied: idna in c:\\users\\lixue\\anaconda3\\lib\\site-packages (from trio~=0.17->selenium) (3.3)\n",
      "Requirement already satisfied: exceptiongroup>=1.0.0rc9 in c:\\users\\lixue\\anaconda3\\lib\\site-packages (from trio~=0.17->selenium) (1.1.0)\n",
      "Requirement already satisfied: async-generator>=1.9 in c:\\users\\lixue\\anaconda3\\lib\\site-packages (from trio~=0.17->selenium) (1.10)\n",
      "Requirement already satisfied: outcome in c:\\users\\lixue\\anaconda3\\lib\\site-packages (from trio~=0.17->selenium) (1.2.0)\n",
      "Requirement already satisfied: wsproto>=0.14 in c:\\users\\lixue\\anaconda3\\lib\\site-packages (from trio-websocket~=0.9->selenium) (1.2.0)\n",
      "Requirement already satisfied: PySocks!=1.5.7,<2.0,>=1.5.6 in c:\\users\\lixue\\anaconda3\\lib\\site-packages (from urllib3[socks]~=1.26->selenium) (1.7.1)\n",
      "Requirement already satisfied: pycparser in c:\\users\\lixue\\anaconda3\\lib\\site-packages (from cffi>=1.14->trio~=0.17->selenium) (2.21)\n",
      "Requirement already satisfied: h11<1,>=0.9.0 in c:\\users\\lixue\\anaconda3\\lib\\site-packages (from wsproto>=0.14->trio-websocket~=0.9->selenium) (0.14.0)\n",
      "Note: you may need to restart the kernel to use updated packages.\n"
     ]
    }
   ],
   "source": [
    "pip install selenium"
   ]
  },
  {
   "cell_type": "code",
   "execution_count": 331,
   "id": "869995e9",
   "metadata": {},
   "outputs": [],
   "source": [
    "from selenium import webdriver\n",
    "from selenium.webdriver.common.by import By\n",
    "from selenium.webdriver.support.ui import WebDriverWait\n",
    "from selenium.webdriver.support import expected_conditions as EC\n",
    "from selenium.webdriver.support.ui import Select\n",
    "\n",
    "from datetime import datetime"
   ]
  },
  {
   "cell_type": "code",
   "execution_count": 339,
   "id": "2e850aa5",
   "metadata": {},
   "outputs": [],
   "source": [
    "driver = webdriver.Chrome()\n",
    "driver.get(\"https://worldbankgroup.csod.com/ux/ats/careersite/1/requisition/21123/application?c=worldbankgroup#2\")"
   ]
  },
  {
   "cell_type": "code",
   "execution_count": 340,
   "id": "285e533e",
   "metadata": {},
   "outputs": [],
   "source": [
    "# fill in the blanks\n",
    "first_name = driver.find_element(By.ID,\"actionItem.firstName.idTag\")\n",
    "last_name = driver.find_element(By.ID,\"actionItem.lastName.idTag\")\n",
    "email = driver.find_element(By.ID,\"actionItem.email.idTag\")\n",
    "\n",
    "first_name.clear()\n",
    "last_name.clear()\n",
    "email.clear()\n",
    "\n",
    "first_name.send_keys(\"Shiyao\")\n",
    "last_name.send_keys(\"Wang\")\n",
    "email.send_keys(\"sw1016@georgetown.edu\")"
   ]
  },
  {
   "cell_type": "code",
   "execution_count": 341,
   "id": "dc77928f",
   "metadata": {},
   "outputs": [],
   "source": [
    "# click the next button\n",
    "button = driver.find_element(By.CSS_SELECTOR,'button[data-tag=\"btnNext\"]')\n",
    "button.click()"
   ]
  },
  {
   "cell_type": "code",
   "execution_count": 343,
   "id": "f44c1d35",
   "metadata": {},
   "outputs": [],
   "source": [
    "# click the Sign In button\n",
    "button = driver.find_element(By.CSS_SELECTOR,'button[data-tag=\"loginDialogLoginBtn\"]')\n",
    "button.click()"
   ]
  },
  {
   "cell_type": "code",
   "execution_count": 344,
   "id": "e451bb39",
   "metadata": {},
   "outputs": [],
   "source": [
    "# fill in the passwords and click Sign In\n",
    "password = driver.find_element(By.CSS_SELECTOR,'input[data-tag=\"txtPassword\"]')\n",
    "password.send_keys(\"20130301Math!\")\n",
    "button = driver.find_element(By.CSS_SELECTOR,'a[data-tag=\"btnSignIn\"]')\n",
    "button.click()"
   ]
  },
  {
   "cell_type": "code",
   "execution_count": 345,
   "id": "92068ab0",
   "metadata": {},
   "outputs": [],
   "source": [
    "# click the next button again\n",
    "button = driver.find_element(By.CSS_SELECTOR,'button[data-tag=\"btnNext\"]')\n",
    "button.click()"
   ]
  },
  {
   "cell_type": "code",
   "execution_count": 346,
   "id": "20f85012",
   "metadata": {},
   "outputs": [],
   "source": [
    "# delete all pre-filled experience, then add to four experience\n",
    "try:\n",
    "    button = driver.find_element(By.LINK_TEXT,'Delete Experience')\n",
    "    for i in range(0,10):\n",
    "        button.click()\n",
    "except:\n",
    "    button = driver.find_element(By.LINK_TEXT,'Add Experience')\n",
    "    for i in range(0,3):\n",
    "        button.click()"
   ]
  },
  {
   "cell_type": "code",
   "execution_count": 347,
   "id": "1ea02b37",
   "metadata": {},
   "outputs": [],
   "source": [
    "# fill in the experience\n",
    "exp1_title = driver.find_element(By.ID,\"$resume-field_0_0_0\")\n",
    "exp1_title.clear()\n",
    "exp1_title.send_keys(\"Research Analyst\")\n",
    "exp1_org = driver.find_element(By.ID,\"$resume-field_0_0_1\")\n",
    "exp1_org.clear()\n",
    "exp1_org.send_keys(\"International Monetary Fund\")\n",
    "exp1_loc = driver.find_element(By.ID,\"$resume-field_0_0_2\")\n",
    "exp1_loc.clear()\n",
    "exp1_loc.send_keys(\"Washington D.C.\")\n",
    "exp1_start = driver.find_element(By.ID,\"$resume-field_0_0_3\")\n",
    "date = datetime(2019,7,1)\n",
    "formatted_date = date.strftime('%m/%Y')\n",
    "exp1_start.clear()\n",
    "exp1_start.send_keys(formatted_date)\n",
    "\n",
    "exp2_title = driver.find_element(By.ID,\"$resume-field_0_1_0\")\n",
    "exp2_title.send_keys(\"Consultant\")\n",
    "exp2_org = driver.find_element(By.ID,\"$resume-field_0_1_1\")\n",
    "exp2_org.send_keys(\"World Bank Group\")\n",
    "exp2_loc = driver.find_element(By.ID,\"$resume-field_0_1_2\")\n",
    "exp2_loc.send_keys(\"Washington D.C.\")\n",
    "exp2_start = driver.find_element(By.ID,\"$resume-field_0_1_3\")\n",
    "date = datetime(2018,8,1)\n",
    "formatted_date = date.strftime('%m/%Y')\n",
    "exp2_start.send_keys(formatted_date)\n",
    "exp2_end = driver.find_element(By.ID,\"$resume-field_0_1_4\")\n",
    "date = datetime(2019,5,1)\n",
    "formatted_date = date.strftime('%m/%Y')\n",
    "exp2_end.send_keys(formatted_date)\n",
    "\n",
    "exp3_title = driver.find_element(By.ID,\"$resume-field_0_2_0\")\n",
    "exp3_title.send_keys(\"Teaching Assistant\")\n",
    "exp3_org = driver.find_element(By.ID,\"$resume-field_0_2_1\")\n",
    "exp3_org.send_keys(\"Carey Business School\")\n",
    "exp3_loc = driver.find_element(By.ID,\"$resume-field_0_2_2\")\n",
    "exp3_loc.send_keys(\"Washington D.C.\")\n",
    "exp3_start = driver.find_element(By.ID,\"$resume-field_0_2_3\")\n",
    "date = datetime(2018,8,1)\n",
    "formatted_date = date.strftime('%m/%Y')\n",
    "exp3_start.send_keys(formatted_date)\n",
    "exp3_end = driver.find_element(By.ID,\"$resume-field_0_2_4\")\n",
    "date = datetime(2019,5,1)\n",
    "formatted_date = date.strftime('%m/%Y')\n",
    "exp3_end.send_keys(formatted_date)\n",
    "\n",
    "exp4_title = driver.find_element(By.ID,\"$resume-field_0_3_0\")\n",
    "exp4_title.send_keys(\"Teaching Assistant\")\n",
    "exp4_org = driver.find_element(By.ID,\"$resume-field_0_3_1\")\n",
    "exp4_org.send_keys(\"Georgetown University\")\n",
    "exp4_loc = driver.find_element(By.ID,\"$resume-field_0_3_2\")\n",
    "exp4_loc.send_keys(\"Washington D.C.\")\n",
    "exp4_start = driver.find_element(By.ID,\"$resume-field_0_3_3\")\n",
    "date = datetime(2017,9,1)\n",
    "formatted_date = date.strftime('%m/%Y')\n",
    "exp4_start.send_keys(formatted_date)\n",
    "exp4_end = driver.find_element(By.ID,\"$resume-field_0_3_4\")\n",
    "date = datetime(2018,5,1)\n",
    "formatted_date = date.strftime('%m/%Y')\n",
    "exp4_end.send_keys(formatted_date)"
   ]
  },
  {
   "cell_type": "code",
   "execution_count": 348,
   "id": "5ca639dd",
   "metadata": {},
   "outputs": [],
   "source": [
    "# define programs of different skills\n",
    "def create_skill_func(skillset):\n",
    "    global incl\n",
    "    global inclnum\n",
    "    incl = globals()[skillset + 'include']\n",
    "    inclnum = globals()[skillset + 'num']\n",
    "    \n",
    "    if incl == True:\n",
    "        global y\n",
    "        x = y\n",
    "        y = y + inclnum\n",
    "        \n",
    "        for i in range(x,y):\n",
    "            j = i + 1\n",
    "            exec(f\"skill{j} = driver.find_element(By.ID,'$resume-field_2_{i}_0')\")\n",
    "            exec(f\"skill{j}_pro = Select(driver.find_element(By.ID,'$resume-field_2_{i}_1'))\")\n",
    "            exec(f\"skill{j}.clear()\")\n",
    "            if incl == \"econinclude\":\n",
    "                exec(f\"skill{j}.send_keys({skillset}list[i])\")\n",
    "            else:\n",
    "                exec(f\"skill{j}.send_keys({skillset}list[x-i])\")\n",
    "            exec(f\"skill{j}_pro.select_by_visible_text('1 - High')\")\n",
    "    else:\n",
    "        exec(f\"print('{skillset} skill not included')\")\n",
    "        inclnum = 0\n"
   ]
  },
  {
   "cell_type": "code",
   "execution_count": 354,
   "id": "997fb2e2",
   "metadata": {},
   "outputs": [
    {
     "name": "stdout",
     "output_type": "stream",
     "text": [
      "econ skill not included\n"
     ]
    }
   ],
   "source": [
    "# fill in the skills\n",
    "skillsets = ['econ', 'datapro']\n",
    "   \n",
    "econnum = 6\n",
    "econlist = ['Economic Modeling', 'Balance of Payments', 'Macro-Economic Research', 'Economic Data Pre-Processing', 'Exchange Rate Assessment and Surveillance', 'Economic Report Writing']\n",
    "datapronum = 5\n",
    "dataprolist = ['Stata', 'Python', 'Excel VBA', 'R', 'SQL']\n",
    "# webnum = 3\n",
    "# weblist = ['JS', 'HTML', 'CSS']\n",
    "\n",
    "econinclude = True\n",
    "dataproinclude = True\n",
    "webinclude = False\n",
    "\n",
    "totalnum = 0\n",
    "for skillset in skillsets:\n",
    "    global incl\n",
    "    global inclnum\n",
    "    incl = globals()[skillset + 'include']\n",
    "    inclnum = globals()[skillset + 'num']\n",
    "\n",
    "    if incl == False:\n",
    "        inclnum = 0\n",
    "    totalnum = totalnum + inclnum\n",
    "    \n",
    "totalnum = totalnum - 1\n",
    "y = 0\n",
    "\n",
    "try:\n",
    "    button = driver.find_element(By.LINK_TEXT,'Delete Skill / Certification / Language')\n",
    "    for i in range(0,20):\n",
    "        button.click()\n",
    "except:\n",
    "        button = driver.find_element(By.LINK_TEXT,'Add Skill / Certification / Language')\n",
    "        for i in range(0,totalnum):\n",
    "            button.click()     \n",
    "        for skillset in skillsets:\n",
    "            create_skill_func(skillset)\n",
    "                "
   ]
  }
 ],
 "metadata": {
  "kernelspec": {
   "display_name": "Python 3 (ipykernel)",
   "language": "python",
   "name": "python3"
  },
  "language_info": {
   "codemirror_mode": {
    "name": "ipython",
    "version": 3
   },
   "file_extension": ".py",
   "mimetype": "text/x-python",
   "name": "python",
   "nbconvert_exporter": "python",
   "pygments_lexer": "ipython3",
   "version": "3.9.13"
  }
 },
 "nbformat": 4,
 "nbformat_minor": 5
}
