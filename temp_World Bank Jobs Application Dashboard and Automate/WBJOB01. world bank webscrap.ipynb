{
 "cells": [
  {
   "cell_type": "code",
   "execution_count": 4,
   "id": "683903c8",
   "metadata": {},
   "outputs": [],
   "source": [
    "import requests\n",
    "import openai\n",
    "import time\n",
    "from selenium import webdriver\n",
    "from selenium.webdriver.common.by import By\n",
    "# from selenium.webdriver.support.ui import WebDriverWait\n",
    "# from selenium.webdriver.support import expected_conditions as EC\n",
    "import pandas as pd\n",
    "import os\n",
    "from bs4 import BeautifulSoup\n",
    "from openpyxl import load_workbook\n",
    "from datetime import datetime, timedelta\n",
    "\n",
    "os.chdir(\"D:/workshops/temp_World Bank Jobs Application Dashboard and Automate\")"
   ]
  },
  {
   "cell_type": "markdown",
   "id": "d1082282",
   "metadata": {},
   "source": [
    "## Step 1. Loop through the table pages to extract all rows"
   ]
  },
  {
   "cell_type": "code",
   "execution_count": 5,
   "id": "dc5ac14e",
   "metadata": {
    "scrolled": false
   },
   "outputs": [
    {
     "name": "stdout",
     "output_type": "stream",
     "text": [
      "Page Number 1 Displayed\n",
      "Page Number 2 Displayed\n",
      "Page Number 3 Displayed\n",
      "Page Number 4 Displayed\n",
      "Page Number 5 Displayed\n",
      "Page Number 6 Displayed\n",
      "Page Number 7 Displayed\n",
      "Page Number 8 Displayed\n",
      "Page Number 9 Displayed\n",
      "Page Number 10 Displayed\n",
      "No More Pages!\n"
     ]
    }
   ],
   "source": [
    "# Open and retrieve the initial page's table\n",
    "driver = webdriver.Chrome()\n",
    "driver.get('https://worldbankgroup.csod.com/ats/careersite/search.aspx?site=1&c=worldbankgroup&sid=%5e%5e%5eFLGscZMYY2RrwVaMR%2ftHYw%3d%3d')\n",
    "time.sleep(3)\n",
    "print(\"Page Number 1 Displayed\")\n",
    "page_s = driver.page_source\n",
    "soup = BeautifulSoup(page_s, 'html.parser')\n",
    "\n",
    "list_all = []\n",
    "\n",
    "# Home Page\n",
    "for row in soup.find('table', attrs={'class':'results-table'}).find('tbody').find_all('tr'):\n",
    "    list_in = []\n",
    "    list_in.append(row.find('a').text)\n",
    "    list_in.append('https://worldbankgroup.csod.com/ats/careersite/' + row.find('a')['href'])\n",
    "    i = 1 \n",
    "    list_in.append(row.find_all('span')[i].text)\n",
    "    i += 1\n",
    "    list_in.append(row.find_all('span')[i].text)\n",
    "    i += 1\n",
    "    if 'ctl05_displayField' in row.find_all('span')[i]['id']:\n",
    "        list_in.append(row.find_all('span')[i].text)\n",
    "        i += 1\n",
    "    else:\n",
    "        list_in.append(' ')\n",
    "    list_in.append(row.find_all('span')[i].text)\n",
    "    i += 1\n",
    "    list_in.append(row.find_all('span')[i].text)\n",
    "    i += 1\n",
    "    list_in.append(row.find_all('span')[i].text)\n",
    "    list_all.append(list_in)\n",
    "\n",
    "# Other Pages\n",
    "page_count = 2\n",
    "try:\n",
    "    for i in range(0,20):\n",
    "        driver.find_element(By.CSS_SELECTOR, 'a[data-tag=\"nextPageLink\"]').click()\n",
    "        time.sleep(3)\n",
    "        page_s = driver.page_source\n",
    "        soup = BeautifulSoup(page_s, 'html.parser')\n",
    "\n",
    "        for row in soup.find('table', attrs={'class':'results-table'}).find('tbody').find_all('tr'):\n",
    "            list_in = []\n",
    "            list_in.append(row.find('a').text)\n",
    "            list_in.append('https://worldbankgroup.csod.com/ats/careersite/' + row.find('a')['href'])\n",
    "            i = 1 \n",
    "            list_in.append(row.find_all('span')[i].text)\n",
    "            i += 1\n",
    "            list_in.append(row.find_all('span')[i].text)\n",
    "            i += 1\n",
    "            if 'ctl05_displayField' in row.find_all('span')[i]['id']:\n",
    "                list_in.append(row.find_all('span')[i].text)\n",
    "                i += 1\n",
    "            else:\n",
    "                list_in.append(' ')\n",
    "            list_in.append(row.find_all('span')[i].text)\n",
    "            i += 1\n",
    "            list_in.append(row.find_all('span')[i].text)\n",
    "            i += 1\n",
    "            list_in.append(row.find_all('span')[i].text)\n",
    "            list_all.append(list_in)\n",
    "        print(\"Page Number \" + str(page_count) + \" Displayed\")\n",
    "        page_count += 1\n",
    "except:\n",
    "    print(\"No More Pages!\")"
   ]
  },
  {
   "cell_type": "markdown",
   "id": "05bd8f0f",
   "metadata": {},
   "source": [
    "## Step 2. Read current status and combine, then export"
   ]
  },
  {
   "cell_type": "code",
   "execution_count": 6,
   "id": "d5de90e0",
   "metadata": {
    "scrolled": false
   },
   "outputs": [],
   "source": [
    "df = pd.DataFrame(list_all)\n",
    "df.columns = ['title','detail','instit','code','grade','location','topic','ddl']\n",
    "df['ddl_date'] = pd.to_datetime(df['ddl'],format='%m/%d/%Y')\n",
    "df['status'] = ''\n",
    "status_update = pd.read_excel('wb dashboard.xlsm')[['status_update','code']]\n",
    "merged_df = pd.merge(df,status_update, how='left', on='code')\n",
    "\n",
    "merged_df = merged_df[(merged_df['location']=='Washington, DC,United States') & (merged_df['ddl_date']>datetime.today() - timedelta(days=1))]\n",
    "merged_df = merged_df[~merged_df['title'].str.contains('Internship')]\n",
    "merged_df['status'] = merged_df['status_update'] \n",
    "merged_df = merged_df.sort_values(by=['ddl_date','status']).drop(['ddl_date','status_update'], axis=1)\n",
    "merged_df.to_csv('data.csv', index=False)"
   ]
  },
  {
   "cell_type": "code",
   "execution_count": 7,
   "id": "f61ca591",
   "metadata": {},
   "outputs": [],
   "source": [
    "# dfs = pd.read_html(\"https://worldbankgroup.csod.com/ats/careersite/search.aspx?site=1&c=worldbankgroup&sid=%5e%5e%5eFLGscZMYY2RrwVaMR%2ftHYw%3d%3d\")\n",
    "# dfs[3]"
   ]
  }
 ],
 "metadata": {
  "kernelspec": {
   "display_name": "Python 3 (ipykernel)",
   "language": "python",
   "name": "python3"
  },
  "language_info": {
   "codemirror_mode": {
    "name": "ipython",
    "version": 3
   },
   "file_extension": ".py",
   "mimetype": "text/x-python",
   "name": "python",
   "nbconvert_exporter": "python",
   "pygments_lexer": "ipython3",
   "version": "3.9.13"
  }
 },
 "nbformat": 4,
 "nbformat_minor": 5
}
